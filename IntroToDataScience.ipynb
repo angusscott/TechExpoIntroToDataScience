{
 "cells": [
  {
   "cell_type": "heading",
   "metadata": {},
   "level": 1,
   "source": [
    "Introduction to Data Science (for complete beginners) "
   ]
  },
  {
   "cell_type": "heading",
   "metadata": {},
   "level": 2,
   "source": [
    "1. What is Data Science?"
   ]
  },
  {
   "cell_type": "markdown",
   "metadata": {},
   "source": [
    "Give a description of data science. What is it? Decribe how it's the intersection between different discplines between tech, statistics and business knowledge. Refeence the statisticians under the age of 35\n",
    "\n",
    "Data Science is different from automation (and different from Machine Learning also) About gaining new insights into problems that we didn't have previously, not about automating old things\n",
    "\n",
    "What the heck is this big data thing? \n",
    "Bigger doesn't necessarily mean better (or more accurate) \n",
    "\n",
    "Personal opinion is data is big when you can no longer fit your data into memory "
   ]
  },
  {
   "cell_type": "heading",
   "metadata": {},
   "level": 2,
   "source": [
    "2. Obtaining data to science with"
   ]
  },
  {
   "cell_type": "markdown",
   "metadata": {},
   "source": [
    "For "
   ]
  },
  {
   "cell_type": "heading",
   "metadata": {},
   "level": 2,
   "source": [
    "3. Understanding your data"
   ]
  },
  {
   "cell_type": "heading",
   "metadata": {},
   "level": 2,
   "source": [
    "4. How do I clean my data?"
   ]
  },
  {
   "cell_type": "heading",
   "metadata": {},
   "level": 2,
   "source": [
    "5. Building your models"
   ]
  },
  {
   "cell_type": "heading",
   "metadata": {},
   "level": 2,
   "source": [
    "6. Evaluating your models"
   ]
  },
  {
   "cell_type": "heading",
   "metadata": {},
   "level": 2,
   "source": [
    "7. Conclusions and further reading"
   ]
  }
 ],
 "metadata": {},
 "nbformat": 4,
 "nbformat_minor": 0
}